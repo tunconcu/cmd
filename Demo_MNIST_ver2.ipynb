{
  "nbformat": 4,
  "nbformat_minor": 0,
  "metadata": {
    "colab": {
      "name": "Demo-MNIST.ipynb",
      "provenance": []
    },
    "kernelspec": {
      "name": "python3",
      "display_name": "Python 3"
    },
    "language_info": {
      "name": "python"
    }
  },
  "cells": [
    {
      "cell_type": "code",
      "metadata": {
        "id": "ZuPfdQrbwVwS"
      },
      "source": [
        "!pip install --quiet gradio"
      ],
      "execution_count": 13,
      "outputs": []
    },
    {
      "cell_type": "code",
      "source": [
        "!pip install gdown"
      ],
      "metadata": {
        "colab": {
          "base_uri": "https://localhost:8080/"
        },
        "id": "uGvQSU_8O-Lq",
        "outputId": "7817dd57-acdd-4753-b752-6bcff31beacd"
      },
      "execution_count": 14,
      "outputs": [
        {
          "output_type": "stream",
          "name": "stdout",
          "text": [
            "Looking in indexes: https://pypi.org/simple, https://us-python.pkg.dev/colab-wheels/public/simple/\n",
            "Requirement already satisfied: gdown in /usr/local/lib/python3.7/dist-packages (4.4.0)\n",
            "Requirement already satisfied: beautifulsoup4 in /usr/local/lib/python3.7/dist-packages (from gdown) (4.6.3)\n",
            "Requirement already satisfied: requests[socks] in /usr/local/lib/python3.7/dist-packages (from gdown) (2.23.0)\n",
            "Requirement already satisfied: six in /usr/local/lib/python3.7/dist-packages (from gdown) (1.15.0)\n",
            "Requirement already satisfied: tqdm in /usr/local/lib/python3.7/dist-packages (from gdown) (4.64.0)\n",
            "Requirement already satisfied: filelock in /usr/local/lib/python3.7/dist-packages (from gdown) (3.7.1)\n",
            "Requirement already satisfied: idna<3,>=2.5 in /usr/local/lib/python3.7/dist-packages (from requests[socks]->gdown) (2.10)\n",
            "Requirement already satisfied: certifi>=2017.4.17 in /usr/local/lib/python3.7/dist-packages (from requests[socks]->gdown) (2022.5.18.1)\n",
            "Requirement already satisfied: chardet<4,>=3.0.2 in /usr/local/lib/python3.7/dist-packages (from requests[socks]->gdown) (3.0.4)\n",
            "Requirement already satisfied: urllib3!=1.25.0,!=1.25.1,<1.26,>=1.21.1 in /usr/local/lib/python3.7/dist-packages (from requests[socks]->gdown) (1.24.3)\n",
            "Requirement already satisfied: PySocks!=1.5.7,>=1.5.6 in /usr/local/lib/python3.7/dist-packages (from requests[socks]->gdown) (1.7.1)\n"
          ]
        }
      ]
    },
    {
      "cell_type": "code",
      "source": [
        "!gdown https://drive.google.com/uc?id=1uK9uwp9sAwo7mEcGFmGHakbEbN6A9qIs #downloading file with classes names from google drive"
      ],
      "metadata": {
        "colab": {
          "base_uri": "https://localhost:8080/"
        },
        "id": "YcMNz80QPFKF",
        "outputId": "c5193c3f-28e3-4618-88c7-929b14dc95cf"
      },
      "execution_count": 15,
      "outputs": [
        {
          "output_type": "stream",
          "name": "stdout",
          "text": [
            "Downloading...\n",
            "From: https://drive.google.com/uc?id=1uK9uwp9sAwo7mEcGFmGHakbEbN6A9qIs\n",
            "To: /content/class_names2.txt\n",
            "\r  0% 0.00/50.0 [00:00<?, ?B/s]\r100% 50.0/50.0 [00:00<00:00, 69.3kB/s]\n"
          ]
        }
      ]
    },
    {
      "cell_type": "code",
      "source": [
        "!gdown https://drive.google.com/uc?id=1doJ_i3818-DcfRh6RBbI1fsSZejNmBaZ #downloading model from google drive"
      ],
      "metadata": {
        "colab": {
          "base_uri": "https://localhost:8080/"
        },
        "id": "CyaZDZ2OQVaR",
        "outputId": "25af3347-c2ee-4449-9896-7392fd380676"
      },
      "execution_count": 16,
      "outputs": [
        {
          "output_type": "stream",
          "name": "stdout",
          "text": [
            "Downloading...\n",
            "From: https://drive.google.com/uc?id=1doJ_i3818-DcfRh6RBbI1fsSZejNmBaZ\n",
            "To: /content/FCC_MNIST-w_back.keras\n",
            "\r  0% 0.00/4.91M [00:00<?, ?B/s]\r100% 4.91M/4.91M [00:00<00:00, 172MB/s]\n"
          ]
        }
      ]
    },
    {
      "cell_type": "code",
      "metadata": {
        "colab": {
          "base_uri": "https://localhost:8080/"
        },
        "id": "8FKc6fK5G2p4",
        "outputId": "fdccac53-7645-4c56-f6e1-4d1ba90a0fbf"
      },
      "source": [
        "!ls "
      ],
      "execution_count": 17,
      "outputs": [
        {
          "output_type": "stream",
          "name": "stdout",
          "text": [
            "class_names2.txt  FCC_MNIST-w_back.keras  flagged  sample_data\n"
          ]
        }
      ]
    },
    {
      "cell_type": "code",
      "metadata": {
        "id": "9qrgpM-Lwnvh"
      },
      "source": [
        "import numpy as np\n",
        "import gradio as gr\n",
        "from tensorflow import keras\n",
        "import tensorflow as tf\n",
        "\n",
        "from PIL import Image, ImageOps"
      ],
      "execution_count": 18,
      "outputs": []
    },
    {
      "cell_type": "code",
      "source": [
        "from pathlib import Path\n",
        "\n",
        "LABELS = Path('class_names2.txt').read_text().splitlines()"
      ],
      "metadata": {
        "id": "JoNQ9WxBrCod"
      },
      "execution_count": 19,
      "outputs": []
    },
    {
      "cell_type": "code",
      "source": [
        "LABELS"
      ],
      "metadata": {
        "colab": {
          "base_uri": "https://localhost:8080/"
        },
        "id": "PGMKqadkr4qs",
        "outputId": "6956ebbd-86d1-4383-80c9-9ff1b8f92921"
      },
      "execution_count": 20,
      "outputs": [
        {
          "output_type": "execute_result",
          "data": {
            "text/plain": [
              "['zero',\n",
              " 'one',\n",
              " 'two',\n",
              " 'three',\n",
              " 'four',\n",
              " 'five',\n",
              " 'six',\n",
              " 'seven',\n",
              " 'eight',\n",
              " 'nine']"
            ]
          },
          "metadata": {},
          "execution_count": 20
        }
      ]
    },
    {
      "cell_type": "code",
      "source": [
        "# load the model\n",
        "mnist_model = tf.keras.models.load_model('FCC_MNIST-w_back.keras')\n",
        "\n",
        "\n",
        "def predict(img):\n",
        "  \n",
        "\tprediction = mnist_model.predict(img.reshape(1,  784) / 255.).tolist()[0]\n",
        "\treturn {LABELS[i]: prediction[i] for i in range(10)}"
      ],
      "metadata": {
        "id": "uTaVR_qtPp2o"
      },
      "execution_count": 21,
      "outputs": []
    },
    {
      "cell_type": "code",
      "source": [
        "#user interface\n",
        "image = gr.Image(image_mode='L', source='canvas', shape=(28, 28))\n",
        "label = gr.outputs.Label(num_top_classes=4)\n",
        "\n",
        "gr.Interface(\n",
        "\tpredict, \n",
        "\timage,\n",
        "  label,\n",
        "\ttitle=\"MNIST\",\n",
        "        description=\"This model is trained on the widely known MNIST dataset.\",\n",
        "\tcapture_session=True,\n",
        "\tlive=True).launch();"
      ],
      "metadata": {
        "colab": {
          "base_uri": "https://localhost:8080/",
          "height": 677
        },
        "id": "23GXr3zaqhu-",
        "outputId": "de4f26dc-0024-41af-91cd-d3e729161b5a"
      },
      "execution_count": 22,
      "outputs": [
        {
          "output_type": "stream",
          "name": "stderr",
          "text": [
            "/usr/local/lib/python3.7/dist-packages/gradio/deprecation.py:40: UserWarning: The 'type' parameter has been deprecated. Use the Number component instead.\n",
            "  warnings.warn(value)\n",
            "/usr/local/lib/python3.7/dist-packages/gradio/deprecation.py:40: UserWarning: `capture_session` parameter is deprecated, and it has no effect\n",
            "  warnings.warn(value)\n"
          ]
        },
        {
          "output_type": "stream",
          "name": "stdout",
          "text": [
            "Hint: Set streaming=True for Image component to use live streaming.\n",
            "Colab notebook detected. To show errors in colab notebook, set `debug=True` in `launch()`\n",
            "Running on public URL: https://21803.gradio.app\n",
            "\n",
            "This share link expires in 72 hours. For free permanent hosting, check out Spaces (https://huggingface.co/spaces)\n"
          ]
        },
        {
          "output_type": "display_data",
          "data": {
            "text/plain": [
              "<IPython.core.display.HTML object>"
            ],
            "text/html": [
              "<div><iframe src=\"https://21803.gradio.app\" width=\"900\" height=\"500\" allow=\"autoplay; camera; microphone;\" frameborder=\"0\" allowfullscreen></iframe></div>"
            ]
          },
          "metadata": {}
        }
      ]
    },
    {
      "cell_type": "code",
      "source": [
        ""
      ],
      "metadata": {
        "id": "dJKHuKTAclST"
      },
      "execution_count": 22,
      "outputs": []
    }
  ]
}